{
 "cells": [
  {
   "cell_type": "code",
   "execution_count": 90,
   "metadata": {},
   "outputs": [
    {
     "name": "stdout",
     "output_type": "stream",
     "text": [
      "              Usage\n",
      "count  13050.000000\n",
      "mean      59.988582\n",
      "std        7.752075\n",
      "min       28.000000\n",
      "25%       55.000000\n",
      "50%       60.000000\n",
      "75%       65.000000\n",
      "max       90.000000\n"
     ]
    },
    {
     "data": {
      "image/png": "[encoded data removed]",
      "text/plain": [
       "<matplotlib.figure.Figure at 0x11faec150>"
      ]
     },
     "metadata": {},
     "output_type": "display_data"
    },
    {
     "name": "stdout",
     "output_type": "stream",
     "text": [
      "            date   time  Usage\n",
      "index                         \n",
      "0     2017-09-27  12:58     65\n",
      "1     2017-09-27  12:48     53\n",
      "2     2017-09-27  12:38     61\n",
      "3     2017-09-27  12:28     56\n",
      "4     2017-09-27  12:18     55\n",
      "5     2017-09-27  12:08     58\n",
      "6     2017-09-27  11:58     62\n",
      "7     2017-09-27  11:48     54\n",
      "8     2017-09-27  11:38     60\n",
      "9     2017-09-27  11:28     61\n",
      "10    2017-09-27  11:18     57\n",
      "11    2017-09-27  11:08     62\n",
      "12    2017-09-27  10:58     68\n",
      "13    2017-09-27  10:48     51\n",
      "14    2017-09-27  10:38     49\n",
      "15    2017-09-27  10:28     56\n",
      "16    2017-09-27  10:18     68\n",
      "17    2017-09-27  10:08     59\n",
      "18    2017-09-27  09:58     58\n",
      "19    2017-09-27  09:48     50\n"
     ]
    }
   ],
   "source": [
    "# This part involves parsing of csv and have a easy visualization of the same\n",
    "\n",
    "import numpy as np\n",
    "import matplotlib.pyplot as plt\n",
    "import pandas as pd\n",
    "import seaborn as sns\n",
    "from pandas.tools.plotting import scatter_matrix\n",
    "from sklearn import model_selection\n",
    "from sklearn.metrics import classification_report\n",
    "from sklearn.metrics import confusion_matrix\n",
    "from sklearn.metrics import accuracy_score\n",
    "from sklearn.linear_model import LogisticRegression\n",
    "from sklearn.tree import DecisionTreeClassifier\n",
    "from sklearn.neighbors import KNeighborsClassifier\n",
    "from sklearn.discriminant_analysis import LinearDiscriminantAnalysis\n",
    "from sklearn.naive_bayes import GaussianNB\n",
    "from sklearn.svm import SVC\n",
    "\n",
    "#df = pd.read_csv(\"data.csv\", dtype={'Date':np., 'time':np.string_, 'usage':np.float64})\n",
    "df= pd.read_csv('data.csv', sep=',', parse_dates=[0], header=None,\n",
    "                         names=['index','date', 'time', 'usage'])\n",
    "#dff = pd.DataFrame(\"data.csv\",columns = ['date','time','usage'])\n",
    "df.rename(columns = {'usage':'Usage'}, inplace=True)\n",
    "# Set index\n",
    "df = df.set_index('index')\n",
    "\n",
    "#converting string variable to datetime\n",
    "df['date']=pd.to_datetime(df['date'], format=\"%d/%m/%Y\")\n",
    "#df['time']=pd.to_datetime(df['time'],format=\"%H:%M\").dt.time\n",
    "# descriptions\n",
    "print(df.describe())\n",
    "\n",
    "plt.hist(df['Usage'], alpha=0.5, bins=20, normed=True);\n",
    "plt.show();\n",
    "\n",
    "#print the first 20 rows\n",
    "print df.head(20)"
   ]
  },
  {
   "cell_type": "code",
   "execution_count": 91,
   "metadata": {},
   "outputs": [],
   "source": [
    "#converting the datetime to more sub parts\n",
    "df['date']=pd.to_datetime(df['date'])\n",
    "df['time']=pd.to_datetime(df['time'])\n",
    "column_1 = df['date']\n",
    "column_2 = df['time']\n",
    "\n",
    "df = pd.DataFrame({\"Year\": column_1.dt.year,\n",
    "              \"Month\": column_1.dt.month,\n",
    "              \"Day\": column_1.dt.day,\n",
    "              \"Hour\": column_2.dt.hour,\n",
    "              \"Minute\": column_2.dt.minute,\n",
    "              \"Usage\": df['Usage']\n",
    "             })\n",
    "df = df[['Year','Month','Day','Hour','Minute','Usage']]\n",
    "\n"
   ]
  },
  {
   "cell_type": "code",
   "execution_count": 92,
   "metadata": {},
   "outputs": [
    {
     "name": "stdout",
     "output_type": "stream",
     "text": [
      "       Year  Month  Day  Hour  Minute  Usage\n",
      "index                                       \n",
      "0      2017      9   27    12      58     65\n",
      "1      2017      9   27    12      48     53\n",
      "2      2017      9   27    12      38     61\n",
      "3      2017      9   27    12      28     56\n",
      "4      2017      9   27    12      18     55\n",
      "5      2017      9   27    12       8     58\n",
      "6      2017      9   27    11      58     62\n",
      "7      2017      9   27    11      48     54\n",
      "8      2017      9   27    11      38     60\n",
      "9      2017      9   27    11      28     61\n",
      "10     2017      9   27    11      18     57\n",
      "11     2017      9   27    11       8     62\n",
      "12     2017      9   27    10      58     68\n",
      "13     2017      9   27    10      48     51\n",
      "14     2017      9   27    10      38     49\n",
      "15     2017      9   27    10      28     56\n",
      "16     2017      9   27    10      18     68\n",
      "17     2017      9   27    10       8     59\n",
      "18     2017      9   27     9      58     58\n",
      "19     2017      9   27     9      48     50\n",
      "20     2017      9   27     9      38     56\n",
      "21     2017      9   27     9      28     63\n",
      "22     2017      9   27     9      18     64\n",
      "23     2017      9   27     9       8     51\n",
      "24     2017      9   27     8      58     68\n",
      "25     2017      9   27     8      48     48\n",
      "26     2017      9   27     8      38     54\n",
      "27     2017      9   27     8      28     53\n",
      "28     2017      9   27     8      18     67\n",
      "29     2017      9   27     8       8     65\n",
      "...     ...    ...  ...   ...     ...    ...\n",
      "13020  2017      6   29    17      48     53\n",
      "13021  2017      6   29    17      38     70\n",
      "13022  2017      6   29    17      28     67\n",
      "13023  2017      6   29    17      18     70\n",
      "13024  2017      6   29    17       8     64\n",
      "13025  2017      6   29    16      58     53\n",
      "13026  2017      6   29    16      48     54\n",
      "13027  2017      6   29    16      38     63\n",
      "13028  2017      6   29    16      28     60\n",
      "13029  2017      6   29    16      18     62\n",
      "13030  2017      6   29    16       8     44\n",
      "13031  2017      6   29    15      58     56\n",
      "13032  2017      6   29    15      48     79\n",
      "13033  2017      6   29    15      38     46\n",
      "13034  2017      6   29    15      28     63\n",
      "13035  2017      6   29    15      18     60\n",
      "13036  2017      6   29    15       8     60\n",
      "13037  2017      6   29    14      58     63\n",
      "13038  2017      6   29    14      48     63\n",
      "13039  2017      6   29    14      38     51\n",
      "13040  2017      6   29    14      28     61\n",
      "13041  2017      6   29    14      18     54\n",
      "13042  2017      6   29    14       8     61\n",
      "13043  2017      6   29    13      58     59\n",
      "13044  2017      6   29    13      48     44\n",
      "13045  2017      6   29    13      38     67\n",
      "13046  2017      6   29    13      28     53\n",
      "13047  2017      6   29    13      18     62\n",
      "13048  2017      6   29    13       8     49\n",
      "13049  2017      6   29    12      58     55\n",
      "\n",
      "[13050 rows x 6 columns]\n"
     ]
    }
   ],
   "source": [
    "print df\n",
    "# Splitting Data set into 2 part... one train data set and other validation data set"
   ]
  },
  {
   "cell_type": "code",
   "execution_count": 93,
   "metadata": {},
   "outputs": [],
   "source": [
    "# Split-out validation dataset\n",
    "array = df.values\n",
    "year = array[:,0]\n",
    "month = array[:,1]\n",
    "day = array[:,2]\n",
    "hour = array[:,3]\n",
    "minute =array[:,4]\n",
    "usage =array[:,5]\n",
    "validation_size = 0.20\n",
    "seed = 7\n",
    "year_train, year_validation, month_train, month_validation, day_train, day_Validation, hour_train, hour_Validation, minute_train, minute_Validation, usage_train, usage_Validation = model_selection.train_test_split(year,month,day,hour,minute,usage,test_size=validation_size,random_state=seed)\n",
    "\n",
    "\n",
    "\n",
    "\n",
    "\n"
   ]
  },
  {
   "cell_type": "code",
   "execution_count": 135,
   "metadata": {},
   "outputs": [],
   "source": [
    "# Split-out validation dataset\n",
    "array = df.values\n",
    "X = array[:,0:4]\n",
    "Y = array[:,5]\n",
    "validation_size = 0.20\n",
    "seed = 7\n",
    "X_train, X_validation, Y_train, Y_validation = model_selection.train_test_split(X, Y, test_size=validation_size, random_state=seed)"
   ]
  },
  {
   "cell_type": "code",
   "execution_count": 136,
   "metadata": {},
   "outputs": [
    {
     "name": "stdout",
     "output_type": "stream",
     "text": [
      "[[2017    8   21   17]\n",
      " [2017    8   14    1]\n",
      " [2017    8   28    8]\n",
      " ..., \n",
      " [2017    9   23   19]\n",
      " [2017    7   24   14]\n",
      " [2017    7    3   13]] [64 52 39 ..., 53 60 67]\n"
     ]
    }
   ],
   "source": [
    "print X_train,Y_train"
   ]
  },
  {
   "cell_type": "code",
   "execution_count": 137,
   "metadata": {},
   "outputs": [
    {
     "name": "stdout",
     "output_type": "stream",
     "text": [
      "<type 'numpy.int64'> <type 'numpy.int64'> <type 'numpy.int64'> <type 'numpy.int64'> <type 'numpy.int64'> <type 'numpy.int64'>\n"
     ]
    }
   ],
   "source": [
    "print type(year_train[0]),type(month_train[0]),type(day_train[0]),type(hour_train[0]),type(minute_train[0]),type(usage_train[0])"
   ]
  },
  {
   "cell_type": "code",
   "execution_count": 138,
   "metadata": {
    "collapsed": true
   },
   "outputs": [],
   "source": [
    "# Test options and evaluation metric\n",
    "seed = 7\n",
    "scoring = 'accuracy'"
   ]
  },
  {
   "cell_type": "code",
   "execution_count": 139,
   "metadata": {},
   "outputs": [
    {
     "name": "stdout",
     "output_type": "stream",
     "text": [
      "LR: 0.049617 (0.004406)\n",
      "LDA: 0.050000 (0.007153)\n",
      "KNN: 0.034195 (0.006134)\n",
      "CART: 0.035632 (0.003228)\n",
      "NB: 0.031130 (0.004069)\n",
      "SVM: 0.047414 (0.007107)\n"
     ]
    }
   ],
   "source": [
    "# Spot Check Algorithms\n",
    "models = []\n",
    "models.append(('LR', LogisticRegression()))\n",
    "models.append(('LDA', LinearDiscriminantAnalysis()))\n",
    "models.append(('KNN', KNeighborsClassifier()))\n",
    "models.append(('CART', DecisionTreeClassifier()))\n",
    "models.append(('NB', GaussianNB()))\n",
    "models.append(('SVM', SVC()))\n",
    "# evaluate each model in turn\n",
    "results = []\n",
    "names = []\n",
    "for name, model in models:\n",
    "\tkfold = model_selection.KFold(n_splits=10, random_state=seed)\n",
    "\tcv_results = model_selection.cross_val_score(model,X_train,Y_train , cv=kfold, scoring=scoring)\n",
    "\tresults.append(cv_results)\n",
    "\tnames.append(name)\n",
    "\tmsg = \"%s: %f (%f)\" % (name, cv_results.mean(), cv_results.std())\n",
    "\tprint(msg)"
   ]
  },
  {
   "cell_type": "code",
   "execution_count": null,
   "metadata": {
    "collapsed": true
   },
   "outputs": [],
   "source": []
  }
 ],
 "metadata": {
  "kernelspec": {
   "display_name": "Python 2",
   "language": "python",
   "name": "python2"
  },
  "language_info": {
   "codemirror_mode": {
    "name": "ipython",
    "version": 2
   },
   "file_extension": ".py",
   "mimetype": "text/x-python",
   "name": "python",
   "nbconvert_exporter": "python",
   "pygments_lexer": "ipython2",
   "version": "2.7.13"
  }
 },
 "nbformat": 4,
 "nbformat_minor": 2
}
