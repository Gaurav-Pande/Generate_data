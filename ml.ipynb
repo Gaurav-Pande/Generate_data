{
 "cells": [
  {
   "cell_type": "code",
   "execution_count": 75,
   "metadata": {},
   "outputs": [
    {
     "name": "stdout",
     "output_type": "stream",
     "text": [
      "             time      Usage\n",
      "date                        \n",
      "2017-09-20  12:02  49.696964\n",
      "2017-09-20  11:52  61.876978\n",
      "2017-09-20  11:42  49.330313\n",
      "2017-09-20  11:32  46.218674\n",
      "2017-09-20  11:22  50.842057\n"
     ]
    },
    {
     "data": {
      "image/png": "[encoded data removed]",
      "text/plain": [
       "<matplotlib.figure.Figure at 0x129ecbb50>"
      ]
     },
     "metadata": {},
     "output_type": "display_data"
    }
   ],
   "source": [
    "import numpy as np\n",
    "import matplotlib.pyplot as plt\n",
    "import pandas as pd\n",
    "import seaborn as sns\n",
    "#df = pd.read_csv(\"data.csv\", dtype={'Date':np., 'time':np.string_, 'usage':np.float64})\n",
    "df= pd.read_csv('data.csv', sep=',', parse_dates=[0], header=None,\n",
    "                         names=['date', 'time', 'usage'])\n",
    "#dff = pd.DataFrame(\"data.csv\",columns = ['date','time','usage'])\n",
    "df.rename(columns = {'usage':'Usage'}, inplace=True)\n",
    "# Set index\n",
    "df = df.set_index('date')\n",
    "\n",
    "\n",
    "print df.head()\n",
    "\n",
    "plt.hist(df['Usage'], alpha=0.5, bins=20, normed=True);\n",
    "plt.show();"
   ]
  },
  {
   "cell_type": "code",
   "execution_count": 82,
   "metadata": {},
   "outputs": [
    {
     "data": {
      "text/plain": [
       "<matplotlib.axes._subplots.AxesSubplot at 0x13a3466d0>"
      ]
     },
     "execution_count": 82,
     "metadata": {},
     "output_type": "execute_result"
    }
   ],
   "source": [
    "df.plot(kind='bar',yerr=df.Usage)"
   ]
  },
  {
   "cell_type": "code",
   "execution_count": null,
   "metadata": {
    "collapsed": true
   },
   "outputs": [],
   "source": []
  },
  {
   "cell_type": "code",
   "execution_count": null,
   "metadata": {
    "collapsed": true
   },
   "outputs": [],
   "source": []
  }
 ],
 "metadata": {
  "kernelspec": {
   "display_name": "Python 2",
   "language": "python",
   "name": "python2"
  },
  "language_info": {
   "codemirror_mode": {
    "name": "ipython",
    "version": 2
   },
   "file_extension": ".py",
   "mimetype": "text/x-python",
   "name": "python",
   "nbconvert_exporter": "python",
   "pygments_lexer": "ipython2",
   "version": "2.7.13"
  }
 },
 "nbformat": 4,
 "nbformat_minor": 2
}
